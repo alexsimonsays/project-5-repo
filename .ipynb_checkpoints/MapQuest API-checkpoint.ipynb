{
 "cells": [
  {
   "cell_type": "code",
   "execution_count": 56,
   "metadata": {},
   "outputs": [],
   "source": [
    "import requests"
   ]
  },
  {
   "cell_type": "code",
   "execution_count": 57,
   "metadata": {},
   "outputs": [],
   "source": [
    "# for 'Barton Springs & S Lamar Blvd, Austin'\n",
    "# http://www.mapquestapi.com/geocoding/v1/address?key=AG6E2IsTpxqw4QO2PEoxCl4b1Q4Iwl7Q&location=Barton+Springs+Rd+&+S+Lamar+Blvd+,+Austin"
   ]
  },
  {
   "cell_type": "code",
   "execution_count": 58,
   "metadata": {},
   "outputs": [],
   "source": [
    "key = 'AG6E2IsTpxqw4QO2PEoxCl4b1Q4Iwl7Q'\n",
    "location = 'Barton Springs Rd & S Lamar Blvd, Austin, TX'"
   ]
  },
  {
   "cell_type": "code",
   "execution_count": 59,
   "metadata": {},
   "outputs": [],
   "source": [
    "base_url = f'http://www.mapquestapi.com/geocoding/v1/address?key={key}&location={location}'"
   ]
  },
  {
   "cell_type": "code",
   "execution_count": 60,
   "metadata": {},
   "outputs": [],
   "source": [
    "res = requests.get(base_url)"
   ]
  },
  {
   "cell_type": "code",
   "execution_count": null,
   "metadata": {},
   "outputs": [],
   "source": [
    "# In the above cell I previously had the following. Consider putting the params dictionary back in and creating\n",
    "# a list or series of locations that can be entered as [locations] or whatever in place of the value 'Austin,TX'\n",
    "\n",
    "# res = requests.get(base_url,\n",
    "#                   params={'location': 'Austin,TX',\n",
    "#                           'apikey': key})"
   ]
  },
  {
   "cell_type": "code",
   "execution_count": 61,
   "metadata": {
    "scrolled": false
   },
   "outputs": [
    {
     "data": {
      "text/plain": [
       "200"
      ]
     },
     "execution_count": 61,
     "metadata": {},
     "output_type": "execute_result"
    }
   ],
   "source": [
    "res.status_code"
   ]
  },
  {
   "cell_type": "code",
   "execution_count": 62,
   "metadata": {},
   "outputs": [
    {
     "data": {
      "text/plain": [
       "{'info': {'statuscode': 0,\n",
       "  'copyright': {'text': '© 2020 MapQuest, Inc.',\n",
       "   'imageUrl': 'http://api.mqcdn.com/res/mqlogo.gif',\n",
       "   'imageAltText': '© 2020 MapQuest, Inc.'},\n",
       "  'messages': []},\n",
       " 'options': {'maxResults': -1, 'thumbMaps': True, 'ignoreLatLngInput': False},\n",
       " 'results': [{'providedLocation': {'location': 'Barton Springs Rd '},\n",
       "   'locations': [{'street': '[1 - 599] Barton Springs Rd',\n",
       "     'adminArea6': '',\n",
       "     'adminArea6Type': 'Neighborhood',\n",
       "     'adminArea5': 'Normandy',\n",
       "     'adminArea5Type': 'City',\n",
       "     'adminArea4': 'Bedford',\n",
       "     'adminArea4Type': 'County',\n",
       "     'adminArea3': 'TN',\n",
       "     'adminArea3Type': 'State',\n",
       "     'adminArea1': 'US',\n",
       "     'adminArea1Type': 'Country',\n",
       "     'postalCode': '37360',\n",
       "     'geocodeQualityCode': 'B1AAA',\n",
       "     'geocodeQuality': 'STREET',\n",
       "     'dragPoint': False,\n",
       "     'sideOfStreet': 'M',\n",
       "     'linkId': 'rnr843340',\n",
       "     'unknownInput': '',\n",
       "     'type': 's',\n",
       "     'latLng': {'lat': 35.454548, 'lng': -86.220656},\n",
       "     'displayLatLng': {'lat': 35.454548, 'lng': -86.220656},\n",
       "     'mapUrl': 'http://www.mapquestapi.com/staticmap/v5/map?key=AG6E2IsTpxqw4QO2PEoxCl4b1Q4Iwl7Q&type=map&size=225,160&locations=35.454548,-86.220656|marker-sm-50318A-1&scalebar=true&zoom=15&rand=-1492330665'},\n",
       "    {'street': '[1855 - 2798] Barton Springs Rd',\n",
       "     'adminArea6': '',\n",
       "     'adminArea6Type': 'Neighborhood',\n",
       "     'adminArea5': 'Austin',\n",
       "     'adminArea5Type': 'City',\n",
       "     'adminArea4': 'Travis',\n",
       "     'adminArea4Type': 'County',\n",
       "     'adminArea3': 'TX',\n",
       "     'adminArea3Type': 'State',\n",
       "     'adminArea1': 'US',\n",
       "     'adminArea1Type': 'Country',\n",
       "     'postalCode': '78746',\n",
       "     'geocodeQualityCode': 'B1AAA',\n",
       "     'geocodeQuality': 'STREET',\n",
       "     'dragPoint': False,\n",
       "     'sideOfStreet': 'M',\n",
       "     'linkId': 'rnr830398',\n",
       "     'unknownInput': '',\n",
       "     'type': 's',\n",
       "     'latLng': {'lat': 30.266606, 'lng': -97.769896},\n",
       "     'displayLatLng': {'lat': 30.266606, 'lng': -97.769896},\n",
       "     'mapUrl': 'http://www.mapquestapi.com/staticmap/v5/map?key=AG6E2IsTpxqw4QO2PEoxCl4b1Q4Iwl7Q&type=map&size=225,160&locations=30.266606,-97.769896|marker-sm-50318A-2&scalebar=true&zoom=15&rand=630190619'},\n",
       "    {'street': '[1 - 1952] Barton Springs Rd',\n",
       "     'adminArea6': '',\n",
       "     'adminArea6Type': 'Neighborhood',\n",
       "     'adminArea5': 'Travis Heights',\n",
       "     'adminArea5Type': 'City',\n",
       "     'adminArea4': 'Travis',\n",
       "     'adminArea4Type': 'County',\n",
       "     'adminArea3': 'TX',\n",
       "     'adminArea3Type': 'State',\n",
       "     'adminArea1': 'US',\n",
       "     'adminArea1Type': 'Country',\n",
       "     'postalCode': '78704',\n",
       "     'geocodeQualityCode': 'B1AAA',\n",
       "     'geocodeQuality': 'STREET',\n",
       "     'dragPoint': False,\n",
       "     'sideOfStreet': 'M',\n",
       "     'linkId': 'rnr830396',\n",
       "     'unknownInput': '',\n",
       "     'type': 's',\n",
       "     'latLng': {'lat': 30.260695, 'lng': -97.757587},\n",
       "     'displayLatLng': {'lat': 30.260695, 'lng': -97.757587},\n",
       "     'mapUrl': 'http://www.mapquestapi.com/staticmap/v5/map?key=AG6E2IsTpxqw4QO2PEoxCl4b1Q4Iwl7Q&type=map&size=225,160&locations=30.260695,-97.757587|marker-sm-50318A-3&scalebar=true&zoom=15&rand=-2115308689'}]}]}"
      ]
     },
     "execution_count": 62,
     "metadata": {},
     "output_type": "execute_result"
    }
   ],
   "source": [
    "res.json()\n",
    "\n",
    "# the one we need for this example is the 4th one...hmm..."
   ]
  }
 ],
 "metadata": {
  "kernelspec": {
   "display_name": "Python 3",
   "language": "python",
   "name": "python3"
  },
  "language_info": {
   "codemirror_mode": {
    "name": "ipython",
    "version": 3
   },
   "file_extension": ".py",
   "mimetype": "text/x-python",
   "name": "python",
   "nbconvert_exporter": "python",
   "pygments_lexer": "ipython3",
   "version": "3.7.6"
  }
 },
 "nbformat": 4,
 "nbformat_minor": 4
}
